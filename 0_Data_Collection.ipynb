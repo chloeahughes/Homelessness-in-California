{
  "nbformat": 4,
  "nbformat_minor": 0,
  "metadata": {
    "colab": {
      "provenance": [],
      "authorship_tag": "ABX9TyNDLJgHSTsrjH+d9/2FpCwP",
      "include_colab_link": true
    },
    "kernelspec": {
      "name": "python3",
      "display_name": "Python 3"
    },
    "language_info": {
      "name": "python"
    }
  },
  "cells": [
    {
      "cell_type": "markdown",
      "metadata": {
        "id": "view-in-github",
        "colab_type": "text"
      },
      "source": [
        "<a href=\"https://colab.research.google.com/github/chloeahughes/Homelessness-in-California/blob/main/0_Data_Collection.ipynb\" target=\"_parent\"><img src=\"https://colab.research.google.com/assets/colab-badge.svg\" alt=\"Open In Colab\"/></a>"
      ]
    },
    {
      "cell_type": "markdown",
      "source": [
        "Datasets used to answer our research questions:\n",
        "\n",
        "[1] Which factor(s) among racial distribution, voter registration, housing index, and high school dropout rates is the best predictor of homeless rates by county in the State of California?\n",
        "\n",
        "[2] With what RMSE can we predict rates of homelessness using these factors?\n",
        "\n",
        "These datasets can be accessed through our Google Drive or in the 1. Pre-processing colab: https://drive.google.com/drive/u/0/folders/1LJGsXVjY3lTqjiVuhSDL1rkqzJnHWUXR"
      ],
      "metadata": {
        "id": "FKM_HEluUvsd"
      }
    },
    {
      "cell_type": "markdown",
      "source": [
        "Listed below are the colabs we will be using to answer the research questions."
      ],
      "metadata": {
        "id": "VFNTEXnJWOJo"
      }
    },
    {
      "cell_type": "code",
      "execution_count": 2,
      "metadata": {
        "id": "r9U6rer_UkcA"
      },
      "outputs": [],
      "source": [
        "import pandas as pd\n",
        "\n",
        "#Race\n",
        "asian_df = pd.read_csv('/content/asian_population_rate 2.csv')\n",
        "black_df = pd.read_csv('/content/black_population_rate 2.csv')\n",
        "hispanic_df = pd.read_csv('/content/hispanic_population_rate 2.csv')\n",
        "white_df = pd.read_csv('/content/white_population_rate (2).csv')\n",
        "native_df = pd.read_csv('/content/native_population_rate 2.csv')\n",
        "foreign_df = pd.read_csv('/content/foreignborn_population_rate.csv')\n",
        "race_df = pd.read_csv('/content/race_population_rates (1) (1).csv')\n",
        "\n",
        "#Homeless\n",
        "homeless_df = pd.read_csv('/content/cleaned_county_homeless.csv')\n",
        "\n",
        "#Voter registration\n",
        "voter_df = pd.read_csv('/content/cleaned_county_voter.csv')\n",
        "\n",
        "#dropout\n",
        "dropout_df = pd.read_csv('/content/cleaned_county_dropout (1).csv')\n",
        "\n",
        "#housing\n",
        "zhvi_df = pd.read_csv('/content/cleaned_county_zhvi.csv')\n",
        "zori_df = pd.read_csv('/content/cleaned_county_zori.csv')\n",
        "\n",
        "#heat map shapefile\n",
        "shapefile_df = gds.read_csv('/content/ca_counties (3).zip')\n",
        "\n",
        "#final merged df\n",
        "df = pd.read_csv('/content/final_df.csv')"
      ]
    }
  ]
}